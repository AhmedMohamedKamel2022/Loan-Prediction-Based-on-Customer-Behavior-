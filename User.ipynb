{
 "cells": [
  {
   "cell_type": "code",
   "execution_count": 92,
   "id": "79855e2d",
   "metadata": {},
   "outputs": [],
   "source": [
    "import joblib\n",
    "import warnings\n",
    "warnings.simplefilter(action='ignore')"
   ]
  },
  {
   "cell_type": "code",
   "execution_count": 93,
   "id": "898d7286",
   "metadata": {},
   "outputs": [],
   "source": [
    "def status(x):\n",
    "    if x == 'single':\n",
    "        return [1]\n",
    "    else:\n",
    "        return[0]"
   ]
  },
  {
   "cell_type": "code",
   "execution_count": 94,
   "id": "82cc50a5",
   "metadata": {},
   "outputs": [],
   "source": [
    "def car(x):\n",
    "    if x == 'yes':\n",
    "        return [1]\n",
    "    else:\n",
    "        return[0]"
   ]
  },
  {
   "cell_type": "code",
   "execution_count": 95,
   "id": "40081f0b",
   "metadata": {},
   "outputs": [],
   "source": [
    "def house(x):\n",
    "    if x == 'owned':\n",
    "        return [1,0]\n",
    "    elif x == 'rented':\n",
    "        return[0,1]\n",
    "    else:\n",
    "        return[0,0]"
   ]
  },
  {
   "cell_type": "code",
   "execution_count": 96,
   "id": "1d9e02b8",
   "metadata": {},
   "outputs": [],
   "source": [
    "def User(data):\n",
    "    \n",
    "    Income = data['Income']\n",
    "    Age = data['Age']\n",
    "    Experience = data['Experience']\n",
    "    CURRENT_JOB_YRS = data['CURRENT_JOB_YRS']\n",
    "    CURRENT_HOUSE_YRS = data['CURRENT_HOUSE_YRS']\n",
    "    Status = status(data['Status'])\n",
    "    Car_Ownership = car(data['Car_Ownership'])\n",
    "    House_Ownership = house(data['House_Ownership'])\n",
    "    \n",
    "    Final_Data= [Income, Age, Experience, CURRENT_JOB_YRS, CURRENT_HOUSE_YRS] + Status + Car_Ownership + House_Ownership\n",
    "    return Final_Data"
   ]
  },
  {
   "cell_type": "code",
   "execution_count": 107,
   "id": "df104a61",
   "metadata": {},
   "outputs": [],
   "source": [
    "data =  {'Income':100000, 'Age':30, 'Experience':10, 'CURRENT_JOB_YRS':7, 'CURRENT_HOUSE_YRS':4, 'Status':'married',\n",
    "         'Car_Ownership':'yes', 'House_Ownership':'rented'}"
   ]
  },
  {
   "cell_type": "code",
   "execution_count": 108,
   "id": "ad8a7e49",
   "metadata": {},
   "outputs": [
    {
     "name": "stdout",
     "output_type": "stream",
     "text": [
      "[100000, 30, 10, 7, 4, 0, 1, 0, 1]\n",
      "\n",
      "9\n"
     ]
    }
   ],
   "source": [
    "Final_Data  = User(data)\n",
    "print((Final_Data))\n",
    "print()\n",
    "print(len(Final_Data))"
   ]
  },
  {
   "cell_type": "code",
   "execution_count": 109,
   "id": "e302bdc1",
   "metadata": {},
   "outputs": [],
   "source": [
    "model = joblib.load('Models/model.h5')\n",
    "scaler = joblib.load('Models/scaler.h5')"
   ]
  },
  {
   "cell_type": "code",
   "execution_count": 110,
   "id": "090f176c",
   "metadata": {},
   "outputs": [
    {
     "data": {
      "text/plain": [
       "array([[-1.68764552, -1.14996698,  0.03619772,  0.21528474, -5.76071211,\n",
       "        -2.92261933,  4.89739995, -3.42814948,  1.65467413]])"
      ]
     },
     "execution_count": 110,
     "metadata": {},
     "output_type": "execute_result"
    }
   ],
   "source": [
    "Final_Data = scaler.transform([Final_Data])\n",
    "Final_Data"
   ]
  },
  {
   "cell_type": "code",
   "execution_count": 114,
   "id": "399da312",
   "metadata": {},
   "outputs": [
    {
     "name": "stdout",
     "output_type": "stream",
     "text": [
      "1\n"
     ]
    }
   ],
   "source": [
    "print(model.predict(Final_Data)[0])"
   ]
  },
  {
   "cell_type": "code",
   "execution_count": null,
   "id": "681f7281",
   "metadata": {},
   "outputs": [],
   "source": []
  }
 ],
 "metadata": {
  "kernelspec": {
   "display_name": "Python 3.10.4 64-bit",
   "language": "python",
   "name": "python3"
  },
  "language_info": {
   "codemirror_mode": {
    "name": "ipython",
    "version": 3
   },
   "file_extension": ".py",
   "mimetype": "text/x-python",
   "name": "python",
   "nbconvert_exporter": "python",
   "pygments_lexer": "ipython3",
   "version": "3.10.4"
  },
  "vscode": {
   "interpreter": {
    "hash": "26de051ba29f2982a8de78e945f0abaf191376122a1563185a90213a26c5da77"
   }
  }
 },
 "nbformat": 4,
 "nbformat_minor": 5
}
